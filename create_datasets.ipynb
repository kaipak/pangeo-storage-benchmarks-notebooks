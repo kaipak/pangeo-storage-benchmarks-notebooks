{
 "cells": [
  {
   "cell_type": "markdown",
   "metadata": {},
   "source": [
    "# Creation of `storage-benchmark` Datasets\n",
    "Datasets from LLC4320 MITgcm implementation have been stored on Columbia-LDEO servers. This notebook subsets this dataset to be made available on various platforms"
   ]
  },
  {
   "cell_type": "code",
   "execution_count": 6,
   "metadata": {},
   "outputs": [],
   "source": [
    "from dask.distributed import Client, LocalCluster\n",
    "from matplotlib import pyplot as plt\n",
    "import gcsfs\n",
    "import xarray as xr\n",
    "import zarr\n",
    "import os\n",
    "import glob\n",
    "\n",
    "import os.path as op\n",
    "import xmitgcm\n",
    "import xrsigproc\n",
    "from dask.diagnostics import ProgressBar"
   ]
  },
  {
   "cell_type": "code",
   "execution_count": 7,
   "metadata": {},
   "outputs": [
    {
     "data": {
      "text/html": [
       "<table style=\"border: 2px solid white;\">\n",
       "<tr>\n",
       "<td style=\"vertical-align: top; border: 0px solid white\">\n",
       "<h3>Client</h3>\n",
       "<ul>\n",
       "  <li><b>Scheduler: </b>tcp://129.236.21.48:45526\n",
       "  <li><b>Dashboard: </b><a href='http://129.236.21.48:8787/status' target='_blank'>http://129.236.21.48:8787/status</a>\n",
       "</ul>\n",
       "</td>\n",
       "<td style=\"vertical-align: top; border: 0px solid white\">\n",
       "<h3>Cluster</h3>\n",
       "<ul>\n",
       "  <li><b>Workers: </b>16</li>\n",
       "  <li><b>Cores: </b>80</li>\n",
       "  <li><b>Memory: </b>1.20 TB</li>\n",
       "</ul>\n",
       "</td>\n",
       "</tr>\n",
       "</table>"
      ],
      "text/plain": [
       "<Client: scheduler='tcp://129.236.21.48:45526' processes=16 cores=80>"
      ]
     },
     "execution_count": 7,
     "metadata": {},
     "output_type": "execute_result"
    }
   ],
   "source": [
    "cluster = LocalCluster(n_workers=16, ip='129.236.21.48')\n",
    "client = Client(cluster)\n",
    "client"
   ]
  },
  {
   "cell_type": "code",
   "execution_count": 56,
   "metadata": {},
   "outputs": [
    {
     "data": {
      "text/html": [
       "<table style=\"border: 2px solid white;\">\n",
       "<tr>\n",
       "<td style=\"vertical-align: top; border: 0px solid white\">\n",
       "<h3>Client</h3>\n",
       "<ul>\n",
       "  <li><b>Scheduler: </b>tcp://gyre.ldeo.columbia.edu:8786\n",
       "  <li><b>Dashboard: </b><a href='http://gyre.ldeo.columbia.edu:8787/status' target='_blank'>http://gyre.ldeo.columbia.edu:8787/status</a>\n",
       "</ul>\n",
       "</td>\n",
       "<td style=\"vertical-align: top; border: 0px solid white\">\n",
       "<h3>Cluster</h3>\n",
       "<ul>\n",
       "  <li><b>Workers: </b>32</li>\n",
       "  <li><b>Cores: </b>64</li>\n",
       "  <li><b>Memory: </b>512.00 GB</li>\n",
       "</ul>\n",
       "</td>\n",
       "</tr>\n",
       "</table>"
      ],
      "text/plain": [
       "<Client: scheduler='tcp://129.236.21.48:8786' processes=32 cores=64>"
      ]
     },
     "execution_count": 56,
     "metadata": {},
     "output_type": "execute_result"
    }
   ],
   "source": [
    "from dask.distributed import Client\n",
    "c = Client(\"tcp://gyre.ldeo.columbia.edu:8786\")\n",
    "c"
   ]
  },
  {
   "cell_type": "code",
   "execution_count": 38,
   "metadata": {},
   "outputs": [],
   "source": [
    "c.close()"
   ]
  },
  {
   "cell_type": "markdown",
   "metadata": {},
   "source": [
    "# Create datasets\n",
    "Tidy up LLC4320 datasets (get in right coordinates, just take temperature measurements, etc.), and cull down to approximately the right size we want for our benchmarks."
   ]
  },
  {
   "cell_type": "code",
   "execution_count": 19,
   "metadata": {},
   "outputs": [
    {
     "data": {
      "text/plain": [
       "<xarray.Dataset>\n",
       "Dimensions:   (XC: 2160, XG: 2160, YC: 2160, YG: 2160, Z: 90, Zl: 90, Zp1: 91, Zu: 90, time: 69)\n",
       "Coordinates:\n",
       "  * YC        (YC) float32 -57.001026 -56.989952 -56.978878 -56.9678 ...\n",
       "  * YG        (YG) float32 -57.00656 -56.995487 -56.984413 -56.97334 ...\n",
       "  * XC        (XC) float32 -15.489583 -15.46875 -15.447917 -15.427083 ...\n",
       "  * XG        (XG) float32 -15.5 -15.479167 -15.458333 -15.4375 -15.416667 ...\n",
       "  * Zp1       (Zp1) float32 0.0 -1.0 -2.14 -3.44 -4.93 -6.63 -8.56 -10.76 ...\n",
       "  * Z         (Z) float32 -0.5 -1.57 -2.79 -4.185 -5.78 -7.595 -9.66 -12.01 ...\n",
       "  * Zl        (Zl) float32 0.0 -1.0 -2.14 -3.44 -4.93 -6.63 -8.56 -10.76 ...\n",
       "  * Zu        (Zu) float32 -1.0 -2.14 -3.44 -4.93 -6.63 -8.56 -10.76 -13.26 ...\n",
       "  * time      (time) float64 2.502e+06 2.506e+06 2.509e+06 2.513e+06 ...\n",
       "Data variables:\n",
       "    rA        (YC, XC) float32 ...\n",
       "    rAw       (YC, XG) float32 ...\n",
       "    rAs       (YG, XC) float32 ...\n",
       "    rAz       (YG, XG) float32 ...\n",
       "    dxG       (YG, XC) float32 ...\n",
       "    dyG       (YC, XG) float32 ...\n",
       "    dxC       (YC, XG) float32 ...\n",
       "    Depth     (YC, XC) float32 ...\n",
       "    dyC       (YG, XC) float32 ...\n",
       "    PHrefF    (Zp1) float32 ...\n",
       "    drF       (Z) float32 ...\n",
       "    PHrefC    (Z) float32 ...\n",
       "    drC       (Zp1) float32 ...\n",
       "    hFacW     (Z, YC, XG) float32 ...\n",
       "    hFacS     (Z, YG, XC) float32 ...\n",
       "    hFacC     (Z, YC, XC) float32 ...\n",
       "    Eta       (time, YC, XC) float32 dask.array<shape=(69, 2160, 2160), chunksize=(1, 2160, 2160)>\n",
       "    PhiBot    (time, YC, XC) float32 dask.array<shape=(69, 2160, 2160), chunksize=(1, 2160, 2160)>\n",
       "    SIarea    (time, YC, XC) float32 dask.array<shape=(69, 2160, 2160), chunksize=(1, 2160, 2160)>\n",
       "    SIheff    (time, YC, XC) float32 dask.array<shape=(69, 2160, 2160), chunksize=(1, 2160, 2160)>\n",
       "    SIhsalt   (time, YC, XC) float32 dask.array<shape=(69, 2160, 2160), chunksize=(1, 2160, 2160)>\n",
       "    SIhsnow   (time, YC, XC) float32 dask.array<shape=(69, 2160, 2160), chunksize=(1, 2160, 2160)>\n",
       "    SIuice    (time, YC, XG) float32 dask.array<shape=(69, 2160, 2160), chunksize=(1, 2160, 2160)>\n",
       "    SIvice    (time, YG, XC) float32 dask.array<shape=(69, 2160, 2160), chunksize=(1, 2160, 2160)>\n",
       "    Salt      (time, Z, YC, XC) float32 dask.array<shape=(69, 90, 2160, 2160), chunksize=(1, 1, 2160, 2160)>\n",
       "    Theta     (time, Z, YC, XC) float32 dask.array<shape=(69, 90, 2160, 2160), chunksize=(1, 1, 2160, 2160)>\n",
       "    U         (time, Z, YC, XG) float32 dask.array<shape=(69, 90, 2160, 2160), chunksize=(1, 1, 2160, 2160)>\n",
       "    V         (time, Z, YG, XC) float32 dask.array<shape=(69, 90, 2160, 2160), chunksize=(1, 1, 2160, 2160)>\n",
       "    W         (time, Zl, YC, XC) float32 dask.array<shape=(69, 90, 2160, 2160), chunksize=(1, 1, 2160, 2160)>\n",
       "    iter      (time) int64 dask.array<shape=(69,), chunksize=(1,)>\n",
       "    oceFWflx  (time, YC, XC) float32 dask.array<shape=(69, 2160, 2160), chunksize=(1, 2160, 2160)>\n",
       "    oceQnet   (time, YC, XC) float32 dask.array<shape=(69, 2160, 2160), chunksize=(1, 2160, 2160)>\n",
       "    oceQsw    (time, YC, XC) float32 dask.array<shape=(69, 2160, 2160), chunksize=(1, 2160, 2160)>\n",
       "    oceSflux  (time, YC, XC) float32 dask.array<shape=(69, 2160, 2160), chunksize=(1, 2160, 2160)>\n",
       "    oceTAUX   (time, YC, XG) float32 dask.array<shape=(69, 2160, 2160), chunksize=(1, 2160, 2160)>\n",
       "    oceTAUY   (time, YG, XC) float32 dask.array<shape=(69, 2160, 2160), chunksize=(1, 2160, 2160)>"
      ]
     },
     "execution_count": 19,
     "metadata": {},
     "output_type": "execute_result"
    }
   ],
   "source": [
    "# Access multiple time sets of data. \n",
    "ddir     = '/swot/SUM01/LLC/llc_4320_agulhas/'\n",
    "gridfile = op.join(ddir, 'llc_4320_agulhas_grid.nc')\n",
    "\n",
    "# 1 TB dataset size\n",
    "#bfdata   = xr.open_mfdataset('/swot/SUM01/LLC/llc_4320_agulhas/llc_4320_agulhas.00001[0-9]*.nc', \n",
    "#                            decode_cf=False, autoclose=True, chunks={'k': 1, 'k_l': 1})\n",
    "\n",
    "# 100 GB\n",
    "bfdata   = xr.open_mfdataset('/swot/SUM01/LLC/llc_4320_agulhas/llc_4320_agulhas.000010[0-9]*.nc', \n",
    "                             decode_cf=False, autoclose=True, chunks={'k': 1, 'k_l': 1})\n",
    "\n",
    "# 10 GB\n",
    "#bfdata   = xr.open_mfdataset('/swot/SUM01/LLC/llc_4320_agulhas/llc_4320_agulhas.0000100*.nc', \n",
    "#                             decode_cf=False, autoclose=True, chunks={'k': 1, 'k_l': 1})\n",
    "\n",
    "\n",
    "grid     = xr.open_dataset(gridfile)#.chunk()\n",
    "bfds     = xr.merge([grid.drop('face'), bfdata.drop('face')],)\n",
    "bfds     = xmitgcm.mds_store._swap_dimensions(bfds, geometry='sphericalpolar')\n",
    "bfds"
   ]
  },
  {
   "cell_type": "code",
   "execution_count": 20,
   "metadata": {},
   "outputs": [
    {
     "data": {
      "text/plain": [
       "<xarray.Dataset>\n",
       "Dimensions:  (XC: 2160, YC: 2160, Z: 90, time: 69)\n",
       "Coordinates:\n",
       "  * YC       (YC) float32 -57.001026 -56.989952 -56.978878 -56.9678 ...\n",
       "  * XC       (XC) float32 -15.489583 -15.46875 -15.447917 -15.427083 ...\n",
       "  * Z        (Z) float32 -0.5 -1.57 -2.79 -4.185 -5.78 -7.595 -9.66 -12.01 ...\n",
       "  * time     (time) float64 2.502e+06 2.506e+06 2.509e+06 2.513e+06 ...\n",
       "Data variables:\n",
       "    Theta    (time, Z, YC, XC) float32 dask.array<shape=(69, 90, 2160, 2160), chunksize=(1, 1, 2160, 2160)>"
      ]
     },
     "execution_count": 20,
     "metadata": {},
     "output_type": "execute_result"
    }
   ],
   "source": [
    "ds_Theta = bfds.Theta.to_dataset(name='Theta')\n",
    "ds_Theta"
   ]
  },
  {
   "cell_type": "code",
   "execution_count": 21,
   "metadata": {},
   "outputs": [
    {
     "data": {
      "text/plain": [
       "107.93425346910954"
      ]
     },
     "execution_count": 21,
     "metadata": {},
     "output_type": "execute_result"
    }
   ],
   "source": [
    "ds_Theta.nbytes / 2**30"
   ]
  },
  {
   "cell_type": "code",
   "execution_count": null,
   "metadata": {},
   "outputs": [],
   "source": [
    "llc_grid = gcsfs.mapping.GCSMap('pangeo-data/kai-llc4320-vertical-fluxes/'\n",
    "                                'llc_4320_agulhas_grid')\n",
    "grid = xr.open_zarr(llc_grid, auto_chunk=False)"
   ]
  },
  {
   "cell_type": "code",
   "execution_count": null,
   "metadata": {},
   "outputs": [],
   "source": [
    "grid"
   ]
  },
  {
   "cell_type": "code",
   "execution_count": 67,
   "metadata": {},
   "outputs": [],
   "source": [
    "# Get a controlled list of NetCDF files culled and copied over\n",
    "\n",
    "# Access multiple time sets of data and put into list so we have more sane\n",
    "# control over what time slices get chosen rather than regex.\n",
    "ddir     = '/swot/SUM01/LLC/llc_4320_agulhas/'\n",
    "gridfile = op.join(ddir, 'llc_4320_agulhas_grid.nc')\n",
    "grid = xr.open_dataset(gridfile)\n",
    "\n",
    "llc_files = []\n",
    "# ~1000 GB dataset\n",
    "# llc_files = glob.glob('/swot/SUM01/LLC/llc_4320_agulhas/llc_4320_agulhas.00001[0-9]*.nc')\n",
    "# llc_files = [os.path.basename(x) for x in glob.glob('/swot/SUM01/LLC/llc_4320_agulhas/llc_4320_agulhas.00001[0-9]*.nc')]\n",
    "# ~100 GB dataset\n",
    "#llc_files = [os.path.basename(x) for x in glob.glob('/swot/SUM01/LLC/llc_4320_agulhas/llc_4320_agulhas.000010[0-9]*.nc')]\n",
    "# ~10 GB dataset\n",
    "llc_files = [os.path.basename(x) for x in glob.glob('/swot/SUM01/LLC/llc_4320_agulhas/llc_4320_agulhas.0000100*.nc')]\n",
    "\n",
    "\n",
    "for file in llc_files:\n",
    "    ds = xr.open_dataset(ddir + file, decode_cf=False, autoclose=True)\n",
    "    ds = xr.merge([grid.drop('face'), ds.drop('face')],)\n",
    "    ds = xmitgcm.mds_store._swap_dimensions(ds, geometry='sphericalpolar')\n",
    "    ds = ds.Theta.to_dataset(name='Theta')\n",
    "    ds.to_netcdf(path='/home/kyp/fusemnt/storage-benchmarks/llc4320_netcdf_10/' + 'Theta_' + file)"
   ]
  },
  {
   "cell_type": "code",
   "execution_count": null,
   "metadata": {},
   "outputs": [],
   "source": [
    "ds = xr.open_mfdataset('/home/kyp/fusemnt/storage-benchmarks/llc4320_netcdf/Theta*')\n",
    "ds"
   ]
  },
  {
   "cell_type": "markdown",
   "metadata": {},
   "source": [
    "## Convert NetCDF Datasets to Zarr and Save via GCSFS"
   ]
  },
  {
   "cell_type": "code",
   "execution_count": null,
   "metadata": {},
   "outputs": [],
   "source": [
    "fs1 = gcsfs.GCSFileSystem(project='pangeo-181919', token=None)\n",
    "token = fs1.session.credentials\n",
    "fs2 = gcsfs.GCSFileSystem(project='pangeo-181919', token=token)\n",
    "gcsmap_zarr = gcsfs.GCSMap('pangeo-data/storage-benchmarks/llc4320_zarr_10', gcs=fs2)"
   ]
  },
  {
   "cell_type": "code",
   "execution_count": null,
   "metadata": {},
   "outputs": [],
   "source": [
    "%time ds_Theta.to_zarr(gcsmap_zarr)"
   ]
  },
  {
   "cell_type": "markdown",
   "metadata": {},
   "source": [
    "### Verification\n",
    "The copy process can be a little finicky for large datasets, so some basic checks to make sure the dataset is intact"
   ]
  },
  {
   "cell_type": "code",
   "execution_count": null,
   "metadata": {},
   "outputs": [],
   "source": [
    "zarr_read = xr.open_zarr(gcsmap_zarr)"
   ]
  },
  {
   "cell_type": "code",
   "execution_count": null,
   "metadata": {},
   "outputs": [],
   "source": [
    "gcs = gcsfs.GCSMap('pangeo-data/storage-benchmarks/llc4320_zarr_10')\n",
    "za = zarr.open_group(gcsmap_zarr)\n",
    "za['Theta'].info"
   ]
  },
  {
   "cell_type": "code",
   "execution_count": null,
   "metadata": {},
   "outputs": [],
   "source": [
    "zarr_read.Theta.nbytes / 1024**3"
   ]
  },
  {
   "cell_type": "markdown",
   "metadata": {},
   "source": [
    "# Local Disk Copies\n",
    "For local tests, just copy off datasets to local drive."
   ]
  },
  {
   "cell_type": "markdown",
   "metadata": {},
   "source": [
    "### Zarr Copy"
   ]
  },
  {
   "cell_type": "code",
   "execution_count": 14,
   "metadata": {},
   "outputs": [],
   "source": [
    "dataset_zarr = \"/swot/SUM01/pangeo/storage-benchmarks/llc4320_zarr_1000\""
   ]
  },
  {
   "cell_type": "code",
   "execution_count": null,
   "metadata": {},
   "outputs": [],
   "source": [
    "%time ds_Theta.to_zarr(dataset_zarr)"
   ]
  },
  {
   "cell_type": "markdown",
   "metadata": {},
   "source": [
    "### Verification\n",
    "The copy process can be a little finicky for large datasets, so some basic checks to make sure the dataset is intact"
   ]
  },
  {
   "cell_type": "code",
   "execution_count": 17,
   "metadata": {},
   "outputs": [
    {
     "data": {
      "text/html": [
       "<table class=\"zarr-info\"><tbody><tr><th style=\"text-align: left\">Name</th><td style=\"text-align: left\">/Theta</td></tr><tr><th style=\"text-align: left\">Type</th><td style=\"text-align: left\">zarr.core.Array</td></tr><tr><th style=\"text-align: left\">Data type</th><td style=\"text-align: left\">float32</td></tr><tr><th style=\"text-align: left\">Shape</th><td style=\"text-align: left\">(694, 90, 2160, 2160)</td></tr><tr><th style=\"text-align: left\">Chunk shape</th><td style=\"text-align: left\">(1, 1, 2160, 2160)</td></tr><tr><th style=\"text-align: left\">Order</th><td style=\"text-align: left\">C</td></tr><tr><th style=\"text-align: left\">Read-only</th><td style=\"text-align: left\">False</td></tr><tr><th style=\"text-align: left\">Compressor</th><td style=\"text-align: left\">Blosc(cname='lz4', clevel=5, shuffle=SHUFFLE, blocksize=0)</td></tr><tr><th style=\"text-align: left\">Store type</th><td style=\"text-align: left\">zarr.storage.DirectoryStore</td></tr><tr><th style=\"text-align: left\">No. bytes</th><td style=\"text-align: left\">1165653504000 (1.1T)</td></tr><tr><th style=\"text-align: left\">No. bytes stored</th><td style=\"text-align: left\">701529755032 (653.4G)</td></tr><tr><th style=\"text-align: left\">Storage ratio</th><td style=\"text-align: left\">1.7</td></tr><tr><th style=\"text-align: left\">Chunks initialized</th><td style=\"text-align: left\">62460/62460</td></tr></tbody></table>"
      ],
      "text/plain": [
       "Name               : /Theta\n",
       "Type               : zarr.core.Array\n",
       "Data type          : float32\n",
       "Shape              : (694, 90, 2160, 2160)\n",
       "Chunk shape        : (1, 1, 2160, 2160)\n",
       "Order              : C\n",
       "Read-only          : False\n",
       "Compressor         : Blosc(cname='lz4', clevel=5, shuffle=SHUFFLE, blocksize=0)\n",
       "Store type         : zarr.storage.DirectoryStore\n",
       "No. bytes          : 1165653504000 (1.1T)\n",
       "No. bytes stored   : 701529755032 (653.4G)\n",
       "Storage ratio      : 1.7\n",
       "Chunks initialized : 62460/62460"
      ]
     },
     "execution_count": 17,
     "metadata": {},
     "output_type": "execute_result"
    }
   ],
   "source": [
    "zarr_local_read = xr.open_zarr(dataset_zarr)\n",
    "za = zarr.open_group(dataset_zarr)\n",
    "za['Theta'].info"
   ]
  },
  {
   "cell_type": "code",
   "execution_count": 18,
   "metadata": {},
   "outputs": [
    {
     "data": {
      "text/plain": [
       "1085.5994440540671"
      ]
     },
     "execution_count": 18,
     "metadata": {},
     "output_type": "execute_result"
    }
   ],
   "source": [
    "zarr_local_read.nbytes / 2**30"
   ]
  },
  {
   "cell_type": "code",
   "execution_count": null,
   "metadata": {},
   "outputs": [],
   "source": []
  }
 ],
 "metadata": {
  "kernelspec": {
   "display_name": "Python [conda env:kai]",
   "language": "python",
   "name": "conda-env-kai-py"
  },
  "language_info": {
   "codemirror_mode": {
    "name": "ipython",
    "version": 3
   },
   "file_extension": ".py",
   "mimetype": "text/x-python",
   "name": "python",
   "nbconvert_exporter": "python",
   "pygments_lexer": "ipython3",
   "version": "3.6.6"
  }
 },
 "nbformat": 4,
 "nbformat_minor": 2
}
